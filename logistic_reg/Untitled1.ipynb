{
 "cells": [
  {
   "cell_type": "code",
   "execution_count": 1,
   "id": "7ece3f58-7feb-4aa0-ad60-932fb2e4ae62",
   "metadata": {},
   "outputs": [],
   "source": [
    "import pandas as pd"
   ]
  },
  {
   "cell_type": "code",
   "execution_count": 49,
   "id": "877325c9-ac45-417e-b960-6691fe0a68f0",
   "metadata": {},
   "outputs": [],
   "source": [
    "df=pd.read_csv(\"homeprices.csv\")"
   ]
  },
  {
   "cell_type": "code",
   "execution_count": 50,
   "id": "6f231e0d-dfbb-4c89-ae65-41c31530ad4f",
   "metadata": {},
   "outputs": [
    {
     "data": {
      "text/html": [
       "<div>\n",
       "<style scoped>\n",
       "    .dataframe tbody tr th:only-of-type {\n",
       "        vertical-align: middle;\n",
       "    }\n",
       "\n",
       "    .dataframe tbody tr th {\n",
       "        vertical-align: top;\n",
       "    }\n",
       "\n",
       "    .dataframe thead th {\n",
       "        text-align: right;\n",
       "    }\n",
       "</style>\n",
       "<table border=\"1\" class=\"dataframe\">\n",
       "  <thead>\n",
       "    <tr style=\"text-align: right;\">\n",
       "      <th></th>\n",
       "      <th>town</th>\n",
       "      <th>area</th>\n",
       "      <th>price</th>\n",
       "    </tr>\n",
       "  </thead>\n",
       "  <tbody>\n",
       "    <tr>\n",
       "      <th>0</th>\n",
       "      <td>monroe township</td>\n",
       "      <td>2600</td>\n",
       "      <td>550000</td>\n",
       "    </tr>\n",
       "    <tr>\n",
       "      <th>1</th>\n",
       "      <td>monroe township</td>\n",
       "      <td>3000</td>\n",
       "      <td>565000</td>\n",
       "    </tr>\n",
       "    <tr>\n",
       "      <th>2</th>\n",
       "      <td>monroe township</td>\n",
       "      <td>3200</td>\n",
       "      <td>610000</td>\n",
       "    </tr>\n",
       "    <tr>\n",
       "      <th>3</th>\n",
       "      <td>monroe township</td>\n",
       "      <td>3600</td>\n",
       "      <td>680000</td>\n",
       "    </tr>\n",
       "    <tr>\n",
       "      <th>4</th>\n",
       "      <td>monroe township</td>\n",
       "      <td>4000</td>\n",
       "      <td>725000</td>\n",
       "    </tr>\n",
       "  </tbody>\n",
       "</table>\n",
       "</div>"
      ],
      "text/plain": [
       "              town  area   price\n",
       "0  monroe township  2600  550000\n",
       "1  monroe township  3000  565000\n",
       "2  monroe township  3200  610000\n",
       "3  monroe township  3600  680000\n",
       "4  monroe township  4000  725000"
      ]
     },
     "execution_count": 50,
     "metadata": {},
     "output_type": "execute_result"
    }
   ],
   "source": [
    "df.head()"
   ]
  },
  {
   "cell_type": "code",
   "execution_count": 32,
   "id": "72142ce9-054f-40b5-b79e-ae864cbdf3e2",
   "metadata": {},
   "outputs": [],
   "source": [
    "dumy=pd.get_dummies(df.town)"
   ]
  },
  {
   "cell_type": "code",
   "execution_count": 33,
   "id": "ef1f22c8-77e4-4eb3-a2e7-375ac65eedde",
   "metadata": {},
   "outputs": [],
   "source": [
    "df=pd.concat([df,dumy],axis='columns')"
   ]
  },
  {
   "cell_type": "code",
   "execution_count": 36,
   "id": "15690c8e-37dc-42a4-9ad4-d74f78e54794",
   "metadata": {},
   "outputs": [],
   "source": [
    "df=df.drop(['town'],axis='columns')"
   ]
  },
  {
   "cell_type": "code",
   "execution_count": 39,
   "id": "65898cc0-b21a-4352-adb6-0b22ef3af8b3",
   "metadata": {},
   "outputs": [
    {
     "data": {
      "text/plain": [
       "Index(['area', 'price', 'monroe township', 'robinsville', 'west windsor'], dtype='object')"
      ]
     },
     "execution_count": 39,
     "metadata": {},
     "output_type": "execute_result"
    }
   ],
   "source": [
    "df.columns"
   ]
  },
  {
   "cell_type": "code",
   "execution_count": 38,
   "id": "2e55950b-1b01-432c-bd11-01d3f5a671c3",
   "metadata": {},
   "outputs": [],
   "source": [
    "from sklearn.linear_model import LinearRegression"
   ]
  },
  {
   "cell_type": "code",
   "execution_count": 40,
   "id": "9642e334-a8ea-4955-9fc5-0feba4fcf172",
   "metadata": {},
   "outputs": [
    {
     "data": {
      "text/plain": [
       "LinearRegression()"
      ]
     },
     "execution_count": 40,
     "metadata": {},
     "output_type": "execute_result"
    }
   ],
   "source": [
    "model=LinearRegression()\n",
    "model.fit(df[['area', 'monroe township', 'robinsville', 'west windsor']],df['price'])"
   ]
  },
  {
   "cell_type": "code",
   "execution_count": 44,
   "id": "da8ffeab-ecbb-4c91-9e95-fabdf6c8b74c",
   "metadata": {},
   "outputs": [
    {
     "name": "stderr",
     "output_type": "stream",
     "text": [
      "/Users/shashank.gupta/test/lib/python3.9/site-packages/sklearn/base.py:441: UserWarning: X does not have valid feature names, but LinearRegression was fitted with feature names\n",
      "  warnings.warn(\n"
     ]
    },
    {
     "data": {
      "text/plain": [
       "array([590775.6396474])"
      ]
     },
     "execution_count": 44,
     "metadata": {},
     "output_type": "execute_result"
    }
   ],
   "source": [
    " model.predict([[2800,0,1,0]])"
   ]
  },
  {
   "cell_type": "code",
   "execution_count": 65,
   "id": "462f219b-57ba-4d62-8e51-9c4622fa7781",
   "metadata": {},
   "outputs": [],
   "source": [
    "df2=pd.read_csv(\"carprices.csv\")"
   ]
  },
  {
   "cell_type": "code",
   "execution_count": 66,
   "id": "ae94a0b4-daf2-4e7f-9712-5f5120a7d5db",
   "metadata": {},
   "outputs": [],
   "source": [
    "dumy=pd.get_dummies(df2[\"Car Model\"])"
   ]
  },
  {
   "cell_type": "code",
   "execution_count": 67,
   "id": "76435fb2-77a1-4ab7-afb3-5e54cdcbf69b",
   "metadata": {},
   "outputs": [],
   "source": [
    "df2=pd.concat([df2,dumy],axis='columns')"
   ]
  },
  {
   "cell_type": "code",
   "execution_count": 70,
   "id": "125cc63a-d245-45a8-a892-4cabd13ee45c",
   "metadata": {},
   "outputs": [],
   "source": [
    "df2=df2.drop([\"Car Model\"],axis=1)"
   ]
  },
  {
   "cell_type": "code",
   "execution_count": 73,
   "id": "894a5a3e-8682-44b8-a4e7-1953446243bb",
   "metadata": {},
   "outputs": [],
   "source": [
    "from sklearn.linear_model import LogisticRegression"
   ]
  },
  {
   "cell_type": "code",
   "execution_count": 88,
   "id": "c67bf34b-83e0-41b1-9490-516d597970bf",
   "metadata": {},
   "outputs": [],
   "source": [
    "# model2=LogisticRegression()\n",
    "model2=LinearRegression()"
   ]
  },
  {
   "cell_type": "code",
   "execution_count": 89,
   "id": "f005ac38-db2e-4fec-a713-6596449ecc01",
   "metadata": {},
   "outputs": [
    {
     "data": {
      "text/plain": [
       "LinearRegression()"
      ]
     },
     "execution_count": 89,
     "metadata": {},
     "output_type": "execute_result"
    }
   ],
   "source": [
    "model2.fit(df2[['Mileage', 'Age(yrs)', 'Audi A5', 'BMW X5',\n",
    "       'Mercedez Benz C class']],df2[\"Sell Price($)\"])"
   ]
  },
  {
   "cell_type": "code",
   "execution_count": 98,
   "id": "ecf7a96e-218e-48f4-87d7-5f9505a7a6f4",
   "metadata": {},
   "outputs": [
    {
     "name": "stderr",
     "output_type": "stream",
     "text": [
      "/Users/shashank.gupta/test/lib/python3.9/site-packages/sklearn/base.py:441: UserWarning: X does not have valid feature names, but LinearRegression was fitted with feature names\n",
      "  warnings.warn(\n"
     ]
    },
    {
     "data": {
      "text/plain": [
       "array([47352.77882132])"
      ]
     },
     "execution_count": 98,
     "metadata": {},
     "output_type": "execute_result"
    }
   ],
   "source": [
    "model2.predict([[6000,2,0,1,0]])"
   ]
  },
  {
   "cell_type": "code",
   "execution_count": null,
   "id": "8223bfac-4449-43e1-ad71-7750e3b05faa",
   "metadata": {},
   "outputs": [],
   "source": []
  }
 ],
 "metadata": {
  "kernelspec": {
   "display_name": "tensorflow",
   "language": "python",
   "name": "tensorflow"
  },
  "language_info": {
   "codemirror_mode": {
    "name": "ipython",
    "version": 3
   },
   "file_extension": ".py",
   "mimetype": "text/x-python",
   "name": "python",
   "nbconvert_exporter": "python",
   "pygments_lexer": "ipython3",
   "version": "3.9.7"
  }
 },
 "nbformat": 4,
 "nbformat_minor": 5
}
